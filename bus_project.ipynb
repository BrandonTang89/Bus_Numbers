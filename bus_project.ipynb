{
 "cells": [
  {
   "cell_type": "markdown",
   "metadata": {},
   "source": [
    "# Identification of Bus Numbers from Images\n",
    "\n",
    "### Steps\n",
    "1. Find bounding box of bus numbers\n",
    "2. Crop image to bounding box location\n",
    "3. OCR on cropped image\n",
    "4. Text to Speech to tell the visually impaired about the bus"
   ]
  },
  {
   "cell_type": "code",
   "execution_count": 1,
   "metadata": {},
   "outputs": [
    {
     "name": "stdout",
     "output_type": "stream",
     "text": [
      "Azure_Functions_API  formatted_data\t\t  test.json\r\n",
      "bus_number.wav\t     packages-microsoft-prod.deb  test_prediction_api.sh\r\n",
      "bus_project.ipynb    raw_data\t\t\t  YOLOv3\r\n",
      "Documents\t     test_img\r\n"
     ]
    }
   ],
   "source": [
    "# Libaries\n",
    "import requests, json, numpy as np, time, sys\n",
    "import azure.cognitiveservices.speech as speechsdk\n",
    "from PIL import Image\n",
    "from matplotlib.pyplot import imshow\n",
    "from dotenv import load_dotenv\n",
    "from os import getenv\n",
    "\n",
    "load_dotenv()\n",
    "\n",
    "%matplotlib inline\n",
    "!ls"
   ]
  },
  {
   "cell_type": "code",
   "execution_count": 2,
   "metadata": {},
   "outputs": [],
   "source": [
    "# Function Run if Unsuccessful\n",
    "\n",
    "def if_fail():\n",
    "    print(\"Unable to determine bus number\")\n",
    "    sys.exit()"
   ]
  },
  {
   "cell_type": "markdown",
   "metadata": {},
   "source": [
    "## Use Azure Custom Vision to Find Bounding Box of Image"
   ]
  },
  {
   "cell_type": "code",
   "execution_count": 3,
   "metadata": {},
   "outputs": [],
   "source": [
    "threshold = 0.2 #Threshold on what probability corresponds to a valid bounding box\n",
    "test_image = \"test_img/bus_ext_1.jpeg\"\n",
    "custom_vision_api = \"https://southcentralus.api.cognitive.microsoft.com/customvision/v3.0/Prediction/b35dc00f-1a23-4f90-a2f1-c406952ff467/detect/iterations/Bus_Numbers_1/image\"\n",
    "prediction_key = getenv(\"prediction_key\")\n",
    "\n",
    "with open(test_image, 'rb') as image_file:\n",
    "    custom_vision_response = requests.post(custom_vision_api, data=image_file, headers={\"Prediction-Key\": prediction_key, \"Content-Type\": \"application/octet-stream\"} )\n",
    "#print(\"Custom Vision Response:\", custom_vision_response.text)\n",
    "\n",
    "json_response= json.loads(custom_vision_response.text)\n",
    "bounding_boxes = json_response['predictions']"
   ]
  },
  {
   "cell_type": "code",
   "execution_count": 4,
   "metadata": {},
   "outputs": [
    {
     "name": "stdout",
     "output_type": "stream",
     "text": [
      "{'probability': 0.840608, 'tagId': 'd136a86f-b60f-47f7-91d9-24bbf479d74e', 'tagName': 'bus_number', 'boundingBox': {'left': 0.550838768, 'top': 0.3411733, 'width': 0.194818735, 'height': 0.121771753}}\n"
     ]
    }
   ],
   "source": [
    "# Extract Best Bounding Box with Probability > 0.5\n",
    "max_probability = -1 \n",
    "for bounding_box in bounding_boxes:\n",
    "    #print(\"Box:\", bounding_box['probability'])\n",
    "    max_probability = max(max_probability, bounding_box['probability'])\n",
    "\n",
    "if max_probability < threshold:\n",
    "    print(\"No Valid Bounding Boxes Found\")\n",
    "    if_fail()\n",
    "for i in bounding_boxes:\n",
    "    if i['probability'] == max_probability:\n",
    "        bounding_box = i \n",
    "        print(bounding_box)\n",
    "\n"
   ]
  },
  {
   "cell_type": "code",
   "execution_count": 5,
   "metadata": {
    "scrolled": true
   },
   "outputs": [
    {
     "name": "stdout",
     "output_type": "stream",
     "text": [
      "Bounding Box: {'left': 0.550838768, 'top': 0.3411733, 'width': 0.194818735, 'height': 0.121771753}\n"
     ]
    }
   ],
   "source": [
    "bounding_box = bounding_box['boundingBox']\n",
    "print(\"Bounding Box:\", bounding_box)"
   ]
  },
  {
   "cell_type": "markdown",
   "metadata": {},
   "source": [
    "## Use Python Image Libary to Crop Image at Bounding Box"
   ]
  },
  {
   "cell_type": "code",
   "execution_count": 6,
   "metadata": {},
   "outputs": [
    {
     "name": "stdout",
     "output_type": "stream",
     "text": [
      "Image of Bus Number\n"
     ]
    },
    {
     "data": {
      "text/plain": [
       "<matplotlib.image.AxesImage at 0x7f79e8ea8650>"
      ]
     },
     "execution_count": 6,
     "metadata": {},
     "output_type": "execute_result"
    },
    {
     "data": {
      "image/png": "[encoded data removed]",
      "text/plain": [
       "<Figure size 432x288 with 1 Axes>"
      ]
     },
     "metadata": {
      "needs_background": "light"
     },
     "output_type": "display_data"
    }
   ],
   "source": [
    "# Import Test Image into Python\n",
    "raw_image = Image.open(test_image)\n",
    "width, height = raw_image.size\n",
    "\n",
    "# Set Points for Cropped Image to Bounding Box\n",
    "left = width*bounding_box['left']\n",
    "right = left + width*bounding_box['width']\n",
    "top = height*bounding_box['top']\n",
    "bottom = top + height*bounding_box['height']\n",
    "\n",
    "# Crop Image\n",
    "bus_num_image = raw_image.crop((left, top, right, bottom))\n",
    "print(\"Image of Bus Number\")\n",
    "imshow(np.asarray(bus_num_image)) #Display the Image"
   ]
  },
  {
   "cell_type": "code",
   "execution_count": 7,
   "metadata": {},
   "outputs": [
    {
     "name": "stdout",
     "output_type": "stream",
     "text": [
      "OCR Ready Image\n"
     ]
    },
    {
     "data": {
      "image/png": "[encoded data removed]",
      "text/plain": [
       "<Figure size 432x288 with 1 Axes>"
      ]
     },
     "metadata": {
      "needs_background": "light"
     },
     "output_type": "display_data"
    }
   ],
   "source": [
    "ocr_crop_percentage = 0.5\n",
    "# Crop Away ocr_crop_percentage of Left Side for OCR Reasons\n",
    "width, height = bus_num_image.size\n",
    "left = width * ocr_crop_percentage\n",
    "right = width\n",
    "top = 0\n",
    "bottom = height\n",
    "\n",
    "ocr_image = bus_num_image.crop((left, top, right, bottom))\n",
    "\n",
    "# Resize Image with Interpolation if height too big (somehow OCR on Azure doesn't work too well with too sharp of bus numbers)\n",
    "width, height = ocr_image.size\n",
    "if height > 50:\n",
    "    ocr_image = ocr_image.resize((int(width*50/height),50),Image.ANTIALIAS) # Ensure the aspect ratio doesn't change\n",
    "print(\"OCR Ready Image\")\n",
    "imshow(np.asarray(ocr_image)) #Display the Image\n",
    "\n",
    "# Save OCR Ready Image\n",
    "ocr_image_file = \"/tmp/ocr.png\"\n",
    "ocr_image.save(ocr_image_file)"
   ]
  },
  {
   "cell_type": "code",
   "execution_count": 8,
   "metadata": {},
   "outputs": [
    {
     "name": "stdout",
     "output_type": "stream",
     "text": [
      "Image has been resized !\n",
      "(50, 50)\n"
     ]
    }
   ],
   "source": [
    "# Fits image into a square of at least 50x50 pixels by padding white space\n",
    "def Reformat_Image(ImageFilePath):\n",
    "\n",
    "    from PIL import Image\n",
    "    image = Image.open(ImageFilePath, 'r')\n",
    "    image_size = image.size\n",
    "    width = image_size[0]\n",
    "    height = image_size[1]\n",
    "\n",
    "    if(width != height or (width < 50 and height < 50)):\n",
    "        bigside = width if width > height else height\n",
    "        if bigside < 50:\n",
    "            bigside = 50\n",
    "\n",
    "        background = Image.new('RGBA', (bigside, bigside), (255, 255, 255, 255))\n",
    "        offset = (int(round(((bigside - width) / 2), 0)), int(round(((bigside - height) / 2),0)))\n",
    "\n",
    "        background.paste(image, offset)\n",
    "        background.save(ocr_image_file)\n",
    "        print(\"Image has been resized !\")\n",
    "        print(background.size)\n",
    "\n",
    "    else:\n",
    "        print(\"Image is already a square, it has not been resized !\")\n",
    "        \n",
    "Reformat_Image(ocr_image_file)"
   ]
  },
  {
   "cell_type": "markdown",
   "metadata": {},
   "source": [
    "## OCR with Azure Cognitive Services\n",
    "\n",
    "Uses the Recognise Text API which operates asyncronously"
   ]
  },
  {
   "cell_type": "code",
   "execution_count": 9,
   "metadata": {},
   "outputs": [
    {
     "name": "stdout",
     "output_type": "stream",
     "text": [
      "Sending /tmp/ocr.png\n",
      "Resource location https://southcentralus.api.cognitive.microsoft.com/vision/v2.0/textOperations/a473b944-9881-47ec-b441-69b4b8e8975f\n"
     ]
    },
    {
     "data": {
      "text/plain": [
       "<Response [202]>"
      ]
     },
     "execution_count": 9,
     "metadata": {},
     "output_type": "execute_result"
    }
   ],
   "source": [
    "# Sending Image file to Recognise Text API\n",
    "ocr_key = getenv(\"ocr_key\")\n",
    "ocr_api = \"https://southcentralus.api.cognitive.microsoft.com/vision/v2.0/recognizeText\"\n",
    "\n",
    "#ocr_image_file= \"helloworld.png\"\n",
    "params ={\"mode\": \"Printed\"}\n",
    "with open(ocr_image_file, 'rb') as image_file:\n",
    "    print(\"Sending\", ocr_image_file)\n",
    "    ocr_response = requests.post(ocr_api, data=image_file, headers={\"Ocp-Apim-Subscription-Key\": ocr_key, \"Content-Type\": \"application/octet-stream\"}, params=params )\n",
    "    print(\"Resource location\", ocr_response.headers['Operation-Location'])\n",
    "ocr_response"
   ]
  },
  {
   "cell_type": "code",
   "execution_count": 10,
   "metadata": {},
   "outputs": [
    {
     "name": "stdout",
     "output_type": "stream",
     "text": [
      "Response Text: {\"status\":\"Succeeded\",\"recognitionResult\":{\"lines\":[{\"boundingBox\":[12,19,38,20,37,31,11,31],\"text\":\"bus 59\",\"words\":[{\"boundingBox\":[11,18,24,18,24,30,11,30],\"text\":\"bus\",\"confidence\":\"Low\"},{\"boundingBox\":[29,18,37,18,37,30,29,30],\"text\":\"59\"}]}]}}\n",
      "OCR Finished\n"
     ]
    }
   ],
   "source": [
    "# Request for the Result\n",
    "request_result_api = ocr_response.headers['Operation-Location']\n",
    "\n",
    "while True:\n",
    "    ocr_status = requests.get(request_result_api, headers={\"Ocp-Apim-Subscription-Key\": ocr_key})\n",
    "    print(\"Response Text:\", ocr_status.text)\n",
    "    json_response= json.loads(ocr_status.text)\n",
    "    if json_response['status'] == \"Succeeded\":\n",
    "        print(\"OCR Finished\")\n",
    "        break\n",
    "    else:\n",
    "        time.sleep(0.5)"
   ]
  },
  {
   "cell_type": "code",
   "execution_count": 11,
   "metadata": {},
   "outputs": [
    {
     "name": "stdout",
     "output_type": "stream",
     "text": [
      "Predicted Bus Number: 59\n"
     ]
    }
   ],
   "source": [
    "# Extract Lines from Response\n",
    "lines = json_response[\"recognitionResult\"][\"lines\"]\n",
    "if len(lines) == 0:\n",
    "    print(\"No Text Identified...\")\n",
    "\n",
    "# Finding first word that begins with a number\n",
    "predicted_number = \"\"\n",
    "for line in lines:\n",
    "    for word in line[\"words\"]:\n",
    "        #print(word[\"text\"][0])\n",
    "        if word[\"text\"][0].isdigit():\n",
    "\n",
    "            predicted_number = word[\"text\"]\n",
    "            break\n",
    "if predicted_number == \"\":\n",
    "    print(\"Failed to Get a Number...\")\n",
    "    if_fail()\n",
    "    \n",
    "else:\n",
    "    print(\"Predicted Bus Number:\", predicted_number)"
   ]
  },
  {
   "cell_type": "markdown",
   "metadata": {},
   "source": [
    "## Synthesise Speech to Output File"
   ]
  },
  {
   "cell_type": "code",
   "execution_count": 12,
   "metadata": {},
   "outputs": [
    {
     "name": "stdout",
     "output_type": "stream",
     "text": [
      "Speech synthesized to [bus_number.wav] for text [Bus 59 is coming now!]\n"
     ]
    }
   ],
   "source": [
    "speech_key, service_region = ocr_key, \"southcentralus\"\n",
    "speech_config = speechsdk.SpeechConfig(subscription=speech_key, region=service_region)\n",
    "\n",
    "audio_filename = \"bus_number.wav\"\n",
    "audio_output = speechsdk.AudioOutputConfig(filename=audio_filename)\n",
    "\n",
    "speech_synthesizer = speechsdk.SpeechSynthesizer(speech_config=speech_config, audio_config=audio_output)\n",
    "\n",
    "text = \"Bus \"+ predicted_number + \" is coming now!\"\n",
    "result = speech_synthesizer.speak_text_async(text).get()\n",
    "\n",
    "if result.reason == speechsdk.ResultReason.SynthesizingAudioCompleted:\n",
    "    print(\"Speech synthesized to [{}] for text [{}]\".format(audio_filename, text))\n",
    "elif result.reason == speechsdk.ResultReason.Canceled:\n",
    "    cancellation_details = result.cancellation_details\n",
    "    print(\"Speech synthesis canceled: {}\".format(cancellation_details.reason))\n",
    "    if cancellation_details.reason == speechsdk.CancellationReason.Error:\n",
    "        if cancellation_details.error_details:\n",
    "            print(\"Error details: {}\".format(cancellation_details.error_details))"
   ]
  },
  {
   "cell_type": "code",
   "execution_count": null,
   "metadata": {},
   "outputs": [],
   "source": []
  }
 ],
 "metadata": {
  "kernelspec": {
   "display_name": "Python 3",
   "language": "python",
   "name": "python3"
  },
  "language_info": {
   "codemirror_mode": {
    "name": "ipython",
    "version": 3
   },
   "file_extension": ".py",
   "mimetype": "text/x-python",
   "name": "python",
   "nbconvert_exporter": "python",
   "pygments_lexer": "ipython3",
   "version": "3.7.5"
  }
 },
 "nbformat": 4,
 "nbformat_minor": 2
}
